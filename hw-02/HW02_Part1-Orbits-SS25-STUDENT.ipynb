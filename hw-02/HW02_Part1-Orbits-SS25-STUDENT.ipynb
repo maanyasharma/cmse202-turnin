{
 "cells": [
  {
   "cell_type": "markdown",
   "metadata": {},
   "source": [
    "# Homework Assignment 2 \n",
    "## Modeling planets' orbits\n",
    "\n",
    "### (Notebook 1 of 2)\n",
    "\n"
   ]
  },
  {
   "cell_type": "code",
   "execution_count": null,
   "metadata": {},
   "outputs": [],
   "source": []
  },
  {
   "cell_type": "markdown",
   "metadata": {},
   "source": [
    "### <p style=\"text-align: right;\"> &#9989; Maanya</p>\n",
    "### <p style=\"text-align: right;\"> &#9989; maanyasharma</p>"
   ]
  },
  {
   "cell_type": "markdown",
   "metadata": {},
   "source": [
    "\n",
    "<a id=\"toc\"></a>\n",
    "\n",
    "## Table of contents\n",
    "\n",
    "0. [Pre Assignment Survey](#ofhrs) (0 points + 1 git) \n",
    "\n",
    "1. [Planet orbits and migration](#part1) (14 points + 1 git)\n",
    "\n",
    "2. [Modeling planet migration](#part2) (33 points + 1 git)\n"
   ]
  },
  {
   "cell_type": "markdown",
   "metadata": {},
   "source": [
    "## Learning Goals\n",
    "\n",
    "By the end of this assignment, you should be able to:\n",
    "\n",
    "- Define planet migration types\n",
    "- Compare orbit shapes, based on the mass of the planet/the star, the radius of the orbit, and the eccentricity\n",
    "- Be able to find the orbital period from orbit properties\n",
    "- Be able to write methods and attributes of a class, based on the description of the final needed result\n",
    "- Be able to define agents using classes in Python and interactions between them using methods of Python classes.\n",
    "- Describe an agent-based model that accurately presents the properties of a planetary system.\n",
    "- Implement the evolution of the agent-based model by correctly applying the rules for the model and updating the state of the agents in the model.\n",
    "- Be able to identify needed forces and their effect on modeling planet migration.\n",
    "- Be able to visualize and describe the results of planetary migration simulation.\n",
    "\n",
    "\n",
    "Work through the following assignment, making sure to follow all of the directions and answer all of the questions.\n",
    "\n",
    "The assignment is split into two notebooks:\n",
    "- Notebook 1 of 2 is worth **14 + 33 + 3 = 51 points** \n",
    "- Notebook 2 of 2 is worth **1+ 42 + 1 = 44 points** \n",
    "for a total of **95 points**. Point values for each part are included in the section headers and question prompts.\n",
    "\n",
    "**This assignment is due at 11:59 pm on Friday, March 21st.** It should be uploaded into the \"Homework Assignments\" submission folder for Homework #2 on D2L.  Submission instructions can be found at the end of the notebook. **You must also fill out a survey regarding this assignment.** The link to this survey can also be found at the end of the notebook.\n",
    "\n"
   ]
  },
  {
   "cell_type": "markdown",
   "metadata": {},
   "source": [
    "---\n",
    "<a id=\"ofhrs\"></a>\n",
    "[Back to ToC](#toc)\n",
    "\n",
    "## Pre-assignment Survey\n",
    "\n",
    "Please fill out the pre-assignment survey [**here**](https://forms.office.com/r/qLEDb8Fhtr).\n"
   ]
  },
  {
   "cell_type": "code",
   "execution_count": 5,
   "metadata": {},
   "outputs": [],
   "source": [
    "import numpy as np\n",
    "import matplotlib.pyplot as plt"
   ]
  },
  {
   "cell_type": "markdown",
   "metadata": {},
   "source": [
    "---\n",
    "## &#128721; STOP\n",
    "**Pause to commit your changes to your Git repository! (1 points)**\n",
    "\n",
    "Create a ```hw-02``` folder in your ```cmse202-s25-turnin``` repo. Take a moment to save your notebook, add and commit the changes to your Git repository using the commit message \"**Initial commit of HW 2**\", no need to push the changes to GitHub yet, but you can if you want."
   ]
  },
  {
   "cell_type": "markdown",
   "metadata": {},
   "source": [
    "---\n",
    "<a id=part1></a>\n",
    "[Back to ToC](#toc)\n",
    "\n",
    "## Part 1: Planet orbits and migration types (14 Points)\n",
    "\n",
    "✅ **Do this:** Watch these 2 videos and answer the questions below.\n",
    "\n",
    "- [Orbit types](https://www.youtube.com/watch?v=pRvVK2m_wGE)\n",
    "- [Planetary Migration in a Disk](https://www.youtube.com/watch?v=BGPBNeTFXZk) -\n",
    "\n"
   ]
  },
  {
   "cell_type": "code",
   "execution_count": 2,
   "metadata": {},
   "outputs": [
    {
     "data": {
      "image/jpeg": "[encoded data removed]",
      "text/html": [
       "\n",
       "        <iframe\n",
       "            width=\"800\"\n",
       "            height=\"400\"\n",
       "            src=\"https://www.youtube.com/embed/pRvVK2m_wGE\"\n",
       "            frameborder=\"0\"\n",
       "            allowfullscreen\n",
       "            \n",
       "        ></iframe>\n",
       "        "
      ],
      "text/plain": [
       "<IPython.lib.display.YouTubeVideo at 0x7f3cd9f71350>"
      ]
     },
     "execution_count": 2,
     "metadata": {},
     "output_type": "execute_result"
    }
   ],
   "source": [
    "from IPython.display import YouTubeVideo\n",
    "\n",
    "YouTubeVideo('pRvVK2m_wGE', width=800, height=400)"
   ]
  },
  {
   "cell_type": "code",
   "execution_count": null,
   "metadata": {},
   "outputs": [],
   "source": [
    "YouTubeVideo('BGPBNeTFXZk', width=800, height=400, end=260)"
   ]
  },
  {
   "cell_type": "markdown",
   "metadata": {},
   "source": [
    "✅ **Question 1.1 (1 point):** What shape is Earth's orbit?"
   ]
  },
  {
   "cell_type": "markdown",
   "metadata": {},
   "source": [
    "✎ Earth's orbit is an ellipse"
   ]
  },
  {
   "cell_type": "markdown",
   "metadata": {},
   "source": [
    "✅ **Question 1.2 (3 points):** How many types of orbit shapes did the 1st video mention? Which shape is more common for satellites and planets in our Solar system?"
   ]
  },
  {
   "cell_type": "markdown",
   "metadata": {},
   "source": [
    "✎ 4 types of orbit shapes: circular, elliptical, parabolic, and hyperbolic.\n",
    "The most common shape for satellites and planets is elliptical"
   ]
  },
  {
   "cell_type": "markdown",
   "metadata": {},
   "source": [
    "✅ **Question 1.3 (1 point):** How many types of migration did the 2nd video mention?"
   ]
  },
  {
   "cell_type": "markdown",
   "metadata": {},
   "source": [
    "✎ three types"
   ]
  },
  {
   "cell_type": "markdown",
   "metadata": {},
   "source": [
    "✅ **Question 1.4 (2 points):** We see hot Jupiters (planets the size of Jupiter but hot!) in orbits very, very close to their stars. Because of the temperature in these regions, there is no way that planets the size of Jupiter (300 times Earth's mass and 11 times Earth's radius) could form because the star would just steal all the gas and not let the planet to form. But we still see hot Jupiters in those orbits. How do they end up near their stars?"
   ]
  },
  {
   "cell_type": "markdown",
   "metadata": {},
   "source": [
    "✎ Hot Jupiters form far from the star and then move inward over time. They are pushed closer either by the gas around them or by gravity from other planets or stars."
   ]
  },
  {
   "cell_type": "markdown",
   "metadata": {},
   "source": [
    "## Orbital period\n",
    "\n",
    "An important parameter for a planet orbiting a star is its orbital period. This is the time it takes for the planet to travel 1 whole orbit. For example, for the Earth the orbital period is 1 year. Using any Large Language Model(LLM), identify how you can find the orbital period from radius/semi-major axis of the orbit. Make sure to ask follow up questions to make sure you get an ***equation*** for orbital period T and radius a (or r). **Use 2 different prompts** and copy and paste both answers in the 2 cells below. Make sure to include a screenshot of the equation you get."
   ]
  },
  {
   "cell_type": "markdown",
   "metadata": {},
   "source": [
    "**Prompt 1: What is the formula for calculating the orbital period of a planet if I know its distance from the star?**\n",
    "\n",
    "**Answer 1:The orbital period T (the time a planet takes to complete one orbit) can be found using Kepler’s Third Law**"
   ]
  },
  {
   "attachments": {},
   "cell_type": "markdown",
   "metadata": {},
   "source": [
    "**Prompt 2: Can you explain Kepler’s Third Law and how it helps find a planet’s orbital period?**\n",
    "\n",
    "**Answer 2:Kepler’s Third Law states that a planet's orbital period depends on its distance from the star. The simplified equation is **"
   ]
  },
  {
   "attachments": {
    "48da02a5-7888-44dc-98e3-0a026a1288ef.png": {
     "image/png": "[encoded data removed]"
    }
   },
   "cell_type": "markdown",
   "metadata": {},
   "source": [
    "![image.png](attachment:48da02a5-7888-44dc-98e3-0a026a1288ef.png)"
   ]
  },
  {
   "cell_type": "markdown",
   "metadata": {},
   "source": [
    "✅ **Question 1.5 (2 points):** Which prompt got you the answer with the equation? Why do you think one prompt was better to use than the other?"
   ]
  },
  {
   "cell_type": "markdown",
   "metadata": {},
   "source": [
    "✎ Prompt 1 gave me the answer with the full equation. It was better because it included all the important parts like the gravitational constant and the mass of the star. This makes it more useful for calculating the orbital period in real situations. Prompt 2 was easier to understand but only works for planets orbiting the Sun and does not work for all systems."
   ]
  },
  {
   "cell_type": "markdown",
   "metadata": {},
   "source": [
    "The equation that you found is called **Kepler's third law**. Using google or any other search engine, try to find the same equation and verify that GenAI gave you the correct answer."
   ]
  },
  {
   "cell_type": "markdown",
   "metadata": {},
   "source": [
    "✅ **Task 1.6 (1 point):** Place a screenshot of the same equation from a reliable source below. Include a reference to that source."
   ]
  },
  {
   "cell_type": "markdown",
   "metadata": {},
   "source": [
    "✎ Reference: https://en.wikipedia.org/wiki/Kepler%27s_laws_of_planetary_motion"
   ]
  },
  {
   "cell_type": "markdown",
   "metadata": {},
   "source": [
    "✅ **Question 1.7 (2 points):** Using the equation you found in the previous step answer the following question. Planet 1's orbital radius is 4 times bigger than Planet 2's orbital radius. They are orbiting the same star. Which planet's orbital period will be greater? Explain your reasoning."
   ]
  },
  {
   "cell_type": "markdown",
   "metadata": {},
   "source": [
    "✎ Planet 1 will have a greater orbital period because it is farther from the star.\n",
    "\n",
    "Using the equation from before:\n",
    "\n",
    "𝑇\n",
    "2\n",
    "∝\n",
    "𝑎\n",
    "3\n",
    "T \n",
    "2\n",
    " ∝a \n",
    "3\n",
    " \n",
    "This means the square of the orbital period is proportional to the cube of the orbital radius.\n",
    "\n",
    "If Planet 1’s radius is 4 times bigger than Planet 2’s, then:\n",
    "\n",
    "𝑇\n",
    "1\n",
    "2\n",
    "=\n",
    "4\n",
    "3\n",
    "=\n",
    "64\n",
    "T \n",
    "\n"
   ]
  },
  {
   "cell_type": "markdown",
   "metadata": {},
   "source": [
    "## Classes\n",
    "\n",
    "\n",
    "\n",
    "In Keppler's third law, there is a constant called the gravitation constant and it has the value $G = 6.67 \\times 10^{-11} \\frac{N m^2}{{kg}^2}$. Because this number is constant it means that conceptually its value makes no difference in the effects gravity has. That is why we will set the value of this constant to 1.\n",
    "\n",
    "\n",
    "\n",
    "\n",
    "\n",
    "✅ **Do this 1.8 (2 points):** Using the information you found in the previous part, change the class below to calculate the orbital period in the corresponding method of the `Planet` class.\n",
    "Make sure to run the cell under the class to make sure your code works correctly. You will get approximately 99.34 as your orbital period if your code is written correctly."
   ]
  },
  {
   "cell_type": "code",
   "execution_count": 7,
   "metadata": {},
   "outputs": [],
   "source": [
    "import math\n",
    "\n",
    "class Planet:\n",
    "    \"\"\"\n",
    "    A class representing a planet orbiting a star.\n",
    "\n",
    "    Attributes:\n",
    "        mass (float): The mass of the planet.\n",
    "        orbital_radius (float): The distance of the planet from its star.\n",
    "        star_mass (float): The mass of the star the planet orbits.\n",
    "    \"\"\"\n",
    "    def __init__(self, mass, orbital_radius, star_mass):\n",
    "        \"\"\"\n",
    "        Initialize a Planet instance with mass, orbital radius, and the mass of its star.\n",
    "        \"\"\"\n",
    "        self.mass = mass\n",
    "        self.orbital_radius = orbital_radius\n",
    "        self.star_mass = star_mass\n",
    "        \n",
    "    def get_orbital_period(self):\n",
    "        \"\"\"\n",
    "        Calculate and return the orbital period of the planet.\n",
    "        \"\"\"\n",
    "        return 2 * math.pi * math.sqrt(self.orbital_radius**3 / self.star_mass)\n"
   ]
  },
  {
   "cell_type": "code",
   "execution_count": 8,
   "metadata": {},
   "outputs": [
    {
     "data": {
      "text/plain": [
       "99.345882657961"
      ]
     },
     "execution_count": 8,
     "metadata": {},
     "output_type": "execute_result"
    }
   ],
   "source": [
    "#test your code by running this cell\n",
    "planet = Planet(2, 100, 4000)\n",
    "planet.get_orbital_period()"
   ]
  },
  {
   "cell_type": "markdown",
   "metadata": {},
   "source": [
    "---\n",
    "## &#128721; STOP\n",
    "**Pause to commit your changes to your Git repository! (1 points)**\n",
    "\n",
    "Take a moment to save your notebook, commit the changes to your Git repository using the commit message \"**Committing Part 1**\", no need to push the changes to GitHub yet, but you can if you want."
   ]
  },
  {
   "cell_type": "markdown",
   "metadata": {},
   "source": [
    "---\n",
    "\n",
    "<a id=part2></a>\n",
    "[Back to ToC](#toc)\n",
    "\n",
    "## Part 2. Modeling planet migration using Agent Based Modeling (33 points)\n",
    "\n",
    "### Dimensions\n",
    "\n",
    "We are going to try modeling planet interaction with surrounding material using Agent Based Modeling (ABM). For the sake of this assignment, we will keep our model simple. We will assume several things:\n",
    "\n",
    "- All orbits are circular.\n",
    "- Interactions can only change the radius of the orbit, but NOT the shape!\n",
    "- Only forces acting towards the center or outwards from the center *radially* matter! (The vertical force $F_r$ in the sketch below)\n",
    "\n",
    "These assumptions let us look at our system as 2 dimensional BUT only care about *radial* forces, aka forces acting along the radius of the orbit.\n"
   ]
  },
  {
   "cell_type": "markdown",
   "metadata": {},
   "source": [
    "![image](https://www.ux1.eiu.edu/~cfadd/1350/06CirMtn/Images/NetForce.jpg)"
   ]
  },
  {
   "cell_type": "markdown",
   "metadata": {},
   "source": [
    "✅ **Do this 2.1: (1 points)** For the pictures below write down the dimensions of the system."
   ]
  },
  {
   "cell_type": "markdown",
   "metadata": {},
   "source": [
    "**Picture 1**"
   ]
  },
  {
   "cell_type": "code",
   "execution_count": 9,
   "metadata": {},
   "outputs": [
    {
     "data": {
      "text/html": [
       "<img src=\"https://raw.githubusercontent.com/sonachitchyan/abm_images/main/system1.png\" width=\"600\" height=\"300\"/>"
      ],
      "text/plain": [
       "<IPython.core.display.Image object>"
      ]
     },
     "execution_count": 9,
     "metadata": {},
     "output_type": "execute_result"
    }
   ],
   "source": [
    "from IPython.display import Image \n",
    "  \n",
    "# get the image \n",
    "Image(url=\"https://raw.githubusercontent.com/sonachitchyan/abm_images/main/system1.png\", width=600, height=300) "
   ]
  },
  {
   "cell_type": "markdown",
   "metadata": {},
   "source": [
    "✎ Do This - Erase the contents of this cell and replace it with your answer to the above question! (double-click on this text to edit this cell, and hit shift+enter to save the text)"
   ]
  },
  {
   "cell_type": "markdown",
   "metadata": {},
   "source": [
    "**Picture 2**"
   ]
  },
  {
   "cell_type": "code",
   "execution_count": 10,
   "metadata": {},
   "outputs": [
    {
     "data": {
      "text/html": [
       "<img src=\"https://raw.githubusercontent.com/sonachitchyan/abm_images/main/system2.png\"/>"
      ],
      "text/plain": [
       "<IPython.core.display.Image object>"
      ]
     },
     "execution_count": 10,
     "metadata": {},
     "output_type": "execute_result"
    }
   ],
   "source": [
    "from IPython.display import Image \n",
    "  \n",
    "# get the image \n",
    "Image(url=\"https://raw.githubusercontent.com/sonachitchyan/abm_images/main/system2.png\") "
   ]
  },
  {
   "cell_type": "markdown",
   "metadata": {},
   "source": [
    "✎ Do This - Erase the contents of this cell and replace it with your answer to the above question! (double-click on this text to edit this cell, and hit shift+enter to save the text)"
   ]
  },
  {
   "cell_type": "markdown",
   "metadata": {},
   "source": [
    "### Model Set-up"
   ]
  },
  {
   "cell_type": "markdown",
   "metadata": {},
   "source": [
    "✅ **Question 2.2 (1 points):** What are the agents of the model in this case?\n"
   ]
  },
  {
   "cell_type": "markdown",
   "metadata": {},
   "source": [
    "✎ Do This - Erase the contents of this cell and replace it with your answer to the above question! (double-click on this text to edit this cell, and hit shift+enter to save the text)"
   ]
  },
  {
   "cell_type": "markdown",
   "metadata": {},
   "source": [
    "✅ **Question 2.3 (2 points):** How many different classes do we need to model this system? Take into account the agents and the system that we need to run the simulation."
   ]
  },
  {
   "cell_type": "markdown",
   "metadata": {},
   "source": [
    "✎ Do This - Erase the contents of this cell and replace it with your answer to the above question! (double-click on this text to edit this cell, and hit shift+enter to save the text)"
   ]
  },
  {
   "cell_type": "markdown",
   "metadata": {},
   "source": [
    "## Modeling a system of 2 planets around a star"
   ]
  },
  {
   "cell_type": "markdown",
   "metadata": {},
   "source": [
    "If we have a system of 2 planets orbiting a star, these planets interact with each other gravitationally. This force is proportional to the planets' masses (bigger mass -> stronger force/interaction) and inversely proportional to the distance between the planets (bigger distance -> weaker force/interaction). If this force is substantial, it can move the planets from their initial orbits, even make them collide in extreme cases! To make sense of how this happens, we can start from a simplified model of 2 planets orbiting the same star. In this part you will create and run that model, plot how the radius from the host star changes for each planet."
   ]
  },
  {
   "cell_type": "markdown",
   "metadata": {},
   "source": [
    "✅ **Question 2.4 (4 points):** Add docstrings to the methods below. You should include a description of what the method does, a description of parameters and and what the method returns."
   ]
  },
  {
   "cell_type": "code",
   "execution_count": 11,
   "metadata": {},
   "outputs": [],
   "source": [
    "def calculate_forces(planet1, planet2):\n",
    "    \"\"\"\n",
    "    Calculate the gravitational force that planet2 exerts on planet1 in the radial direction.\n",
    "\n",
    "    Parameters:\n",
    "        planet1 (object): The planet on which the force is being calculated. Must have attributes: mass, x, y, and radius.\n",
    "        planet2 (object): The planet exerting the force. Must have attributes: mass, x, and y.\n",
    "\n",
    "    Returns:\n",
    "        float: The radial component of the gravitational force that planet2 exerts on planet1.\n",
    "    \"\"\"\n",
    "    force_x = planet2.mass * planet1.mass * (planet2.x - planet1.x) / ((planet2.x - planet1.x)**2 + (planet2.y - planet1.y)**2)**(1.5)\n",
    "    force_y = planet2.mass * planet1.mass * (planet2.y - planet1.y) / ((planet2.x - planet1.x)**2 + (planet2.y - planet1.y)**2)**(1.5)\n",
    "    force_radial = force_x * planet1.x / planet1.radius + force_y * planet1.y / planet1.radius\n",
    "    return force_radial\n",
    "\n",
    "\n",
    "def take_step(planet, force, delta_time):\n",
    "    \"\"\"\n",
    "    Update the planet's position, velocity, and orbital period over a given simulation time step using the applied radial force.\n",
    "\n",
    "    Parameters:\n",
    "        planet (object): The planet to be updated. Must have attributes: mass, radius, velocity_radial, x, y, orbital_period, and star_mass.\n",
    "        force (float): The radial force acting on the planet.\n",
    "        delta_time (float): The time step over which the planet moves.\n",
    "\n",
    "    Returns:\n",
    "        None: The function updates the planet's properties in place.\n",
    "    \"\"\"\n",
    "    acceleration = force / planet.mass\n",
    "    radius_change = 0.5 * acceleration * delta_time**2 + planet.velocity_radial * delta_time\n",
    "    velocity_change = acceleration * delta_time\n",
    "    planet.radius = planet.radius + radius_change\n",
    "    planet.x = planet.radius * np.cos(2 * np.pi * delta_time / planet.orbital_period)\n",
    "    planet.y = planet.radius * np.sin(2 * np.pi * delta_time / planet.orbital_period)\n",
    "    planet.velocity_radial = planet_\n"
   ]
  },
  {
   "cell_type": "markdown",
   "metadata": {},
   "source": [
    "✅ **Question 2.5 (3 points):** Describe what the code provided above does. What interaction does it describe? Explain both methods separately."
   ]
  },
  {
   "cell_type": "markdown",
   "metadata": {},
   "source": [
    "✎ Do This - Erase the contents of this cell and replace it with your answer to the above question! (double-click on this text to edit this cell, and hit shift+enter to save the text)"
   ]
  },
  {
   "cell_type": "markdown",
   "metadata": {},
   "source": [
    "✅ **Question 2.6 (3 points):** Turn the following pseudo-code into code:"
   ]
  },
  {
   "cell_type": "markdown",
   "metadata": {},
   "source": [
    "```{python, tidy=FALSE, eval=FALSE, highlight=FALSE }\n",
    "Class: Planet\n",
    "    - Represents a planet orbiting a star.\n",
    "\n",
    "  Attributes:\n",
    "      - mass (float): Set to the mass of the planet.\n",
    "      - radius (float): Set to the initial orbital radius of the planet.\n",
    "      - star_mass (float): Set to the mass of the star the planet orbits.\n",
    "      - orbital_period (float): Compute using Kepler’s third law: \n",
    "        orbital_period = 2 * pi * sqrt(radius^3 / star_mass).\n",
    "      - velocity_radial (float): Initialize to 0.0.\n",
    "      - x (float): Set to radius (initial x-coordinate of the planet).\n",
    "      - y (float): Set to 0 (initial y-coordinate of the planet).\n",
    "      - status (string): Defaults to \"Active\". Changes to \"Terminated\" if the planet falls into the star \n",
    "        (radius < sqrt(0.02)).\n",
    "  Methods:\n",
    "      - __init__: \n",
    "        Assigns the default values to the attributes\n",
    "```\n"
   ]
  },
  {
   "cell_type": "markdown",
   "metadata": {},
   "source": [
    "```{r, tidy=FALSE, eval=FALSE, highlight=FALSE }\n",
    "Class: System\n",
    "    Represents a planetary system with a central star and two orbiting planets.\n",
    "\n",
    "Attributes:\n",
    "    - star_mass (float): Set to the mass of the central star.\n",
    "    - planet1 (Planet): Set to the first planet in the system.\n",
    "    - planet2 (Planet): Set to the second planet in the system.\n",
    "    - planet1_pos (list): Initialize as a list of lists with first element [0.0, planet1.radius], tracking planet1's position.\n",
    "    - planet2_pos (list): Initialize as a list of lists with first element [0.0, planet2.radius], tracking planet2's position.\n",
    "\n",
    "Methods:\n",
    "    - __init__:\n",
    "        Assigns the default values to the attributes.\n",
    "    - evolve(time):\n",
    "        Simulate the evolution of the system over a given time.\n",
    "        - Initialize:\n",
    "            - t (float): Set to 0.0.\n",
    "            - delta_time (float): Set to planet1.orbital_period / 5.\n",
    "        - While t < time:\n",
    "            - Initialize:\n",
    "                - total_force_planet1 (float): Set to 0.0.\n",
    "                - total_force_planet2 (float): Set to 0.0.\n",
    "            - If both planets are \"Active\" and their squared distance >= 0.02:\n",
    "                - Compute total_force_planet1 using calculate_forces(planet1, planet2).\n",
    "                - Compute total_force_planet2 using calculate_forces(planet2, planet1).\n",
    "                - Update planet1 position using take_step(planet1, total_force_planet1, delta_time).\n",
    "                - Update planet2 position using take_step(planet2, total_force_planet2, delta_time).\n",
    "            - Increment t by delta_time.\n",
    "            - Append [t, planet1.radius] to planet1_pos.\n",
    "            - Append [t, planet2.radius] to planet2_pos.\n",
    "            - If either planet’s status is \"Terminated\", break the loop.\n",
    "```"
   ]
  },
  {
   "cell_type": "code",
   "execution_count": 14,
   "metadata": {},
   "outputs": [],
   "source": [
    "# your code here\n",
    "import numpy as np\n",
    "\n",
    "class Planet:\n",
    "    \"\"\"\n",
    "    Represents a planet orbiting a star.\n",
    "    \"\"\"\n",
    "    def __init__(self, mass, radius, star_mass):\n",
    "        \"\"\"\n",
    "        Initializes the planet with its mass, initial orbital radius, and the mass of the star.\n",
    "        \"\"\"\n",
    "        self.mass = mass\n",
    "        self.radius = radius\n",
    "        self.star_mass = star_mass\n",
    "        self.orbital_period = 2 * np.pi * np.sqrt(radius**3 / star_mass)  # Kepler's Third Law\n",
    "        self.velocity_radial = 0.0\n",
    "        self.x = radius\n",
    "        self.y = 0.0\n",
    "        self.status = \"Active\"\n",
    "\n",
    "class System:\n",
    "    \"\"\"\n",
    "    Represents a planetary system with two planets orbiting a star.\n",
    "    \"\"\"\n",
    "    def __init__(self, star_mass, planet1, planet2):\n",
    "        \"\"\"\n",
    "        Initializes the system with the star and two planets.\n",
    "        \"\"\"\n",
    "        self.star_mass = star_mass\n",
    "        self.planet1 = planet1\n",
    "        self.planet2 = planet2\n",
    "        self.planet1_pos = [[0.0, planet1.radius]]\n",
    "        self.planet2_pos = [[0.0, planet2.radius]]\n",
    "\n",
    "    def evolve(self, time):\n",
    "        \"\"\"\n",
    "        Simulates the evolution of the system over a specified time.\n",
    "        \"\"\"\n",
    "        t = 0.0\n",
    "        delta_time = self.planet1.orbital_period / 5\n",
    "\n",
    "        while t < time:\n",
    "            total_force_planet1 = 0.0\n",
    "            total_force_planet2 = 0.0\n",
    "\n",
    "            dx = self.planet1.x - self.planet2.x\n",
    "            dy = self.planet1.y - self.planet2.y\n",
    "            distance_squared = dx**2 + dy**2\n",
    "\n",
    "            if self.planet1.status == \"Active\" and self.planet2.status == \"Active\" and distance_squared >= 0.02:\n",
    "                total_force_planet1 = calculate_forces(self.planet1, self.planet2)\n",
    "                total_force_planet2 = calculate_forces(self.planet2, self.planet1)\n",
    "\n",
    "                take_step(self.planet1, total_force_planet1, delta_time)\n",
    "                take_step(self.planet2, total_force_planet2, delta_time)\n",
    "\n",
    "            t += delta_time\n",
    "            self.planet1_pos.append([t, self.planet1.radius])\n",
    "            self.planet2_pos.append([t, self.planet2.radius])\n",
    "\n",
    "            if self.planet1.status == \"Terminated\" or self.planet2.status == \"Terminated\":\n",
    "                break\n",
    "\n",
    "\n",
    "def calculate_forces(planet1, planet2):\n",
    "    \"\"\"\n",
    "    Calculate the gravitational force that planet2 exerts on planet1 in the radial direction.\n",
    "    \"\"\"\n",
    "    dx = planet2.x - planet1.x\n",
    "    dy = planet2.y - planet1.y\n",
    "    distance_squared = dx**2 + dy**2\n",
    "    distance_cubed = distance_squared**1.5\n",
    "\n",
    "    force_x = planet2.mass * planet1.mass * dx / distance_cubed\n",
    "    force_y = planet2.mass * planet1.mass * dy / distance_cubed\n",
    "\n",
    "    force_radial = force_x * planet1.x / planet1.radius + force_y * planet1.y / planet1.radius\n",
    "    return force_radial\n",
    "\n",
    "\n",
    "def take_step(planet, force, delta_time):\n",
    "    \"\"\"\n",
    "    Update the planet's position, velocity, and orbital period over a given simulation time step.\n",
    "    \"\"\"\n",
    "    acceleration = force / planet.mass\n",
    "    radius_change = 0.5 * acceleration * delta_time**2 + planet.velocity_radial * delta_time\n",
    "    velocity_change = acceleration * delta_time\n",
    "\n",
    "    planet.radius += radius_change\n",
    "    planet.x = planet.radius * np.cos(2 * np.pi * delta_time / planet.orbital_period)\n",
    "    planet.y = planet.radius * np.sin(2 * np.pi * delta_time / planet.orbital_period)\n",
    "    planet.velocity_radial += velocity_change\n",
    "\n",
    "    if planet.radius < np.sqrt(0.02):\n",
    "        planet.radius = 0\n",
    "        planet.status = \"Terminated\"\n",
    "\n",
    "    planet.orbital_period = 2 * np.pi * np.sqrt(planet.radius**3 / planet.star_mass)\n"
   ]
  },
  {
   "cell_type": "markdown",
   "metadata": {},
   "source": [
    "✅ **Do this:** Explain what the code above does."
   ]
  },
  {
   "cell_type": "markdown",
   "metadata": {},
   "source": [
    "✎ Do This - Erase the contents of this cell and replace it with your answer to the above question! (double-click on this text to edit this cell, and hit shift+enter to save the text)"
   ]
  },
  {
   "cell_type": "markdown",
   "metadata": {},
   "source": [
    "✅ **Do this:** After defining the `System` class, complete and run the following cell."
   ]
  },
  {
   "cell_type": "code",
   "execution_count": 16,
   "metadata": {},
   "outputs": [],
   "source": [
    "pl1 = Planet(1, 10, 400) # planet with mass 1, radius 10 and star mass 400\n",
    "pl2 = Planet(1, 20, 400) # planet with mass 1, radius 20 and star mass 400\n",
    "system = System(400,pl1,pl2) # fill in the needed arguments\n",
    "system.evolve(2000)"
   ]
  },
  {
   "cell_type": "markdown",
   "metadata": {},
   "source": [
    "### Visualization\n",
    "\n",
    "✅ **Question 2.7 (1 point):**  Now, taking the saved positions of our planets, we can track how their orbital radius changes with time. To do that, make a scatter plot of orbital radius vs time for both planets using the attributes of the `system` object. Use different colors and label the lines with \"Planet 1\" and \"Planet 2\". You can use GenAI for this part but don't forget to add a reference to your answer."
   ]
  },
  {
   "cell_type": "code",
   "execution_count": 20,
   "metadata": {},
   "outputs": [
    {
     "data": {
      "image/png": "[encoded data removed]",
      "text/plain": [
       "<Figure size 1000x600 with 1 Axes>"
      ]
     },
     "metadata": {},
     "output_type": "display_data"
    }
   ],
   "source": [
    "import matplotlib.pyplot as plt\n",
    "\n",
    "# Assuming 'solar_system' is your evolved system object\n",
    "\n",
    "# Extract time and radius data for both planets\n",
    "time1, radius1 = zip(*system.planet1_pos)\n",
    "time2, radius2 = zip(*system.planet2_pos)\n",
    "\n",
    "# Create the scatter plot\n",
    "plt.figure(figsize=(10, 6))\n",
    "plt.scatter(time1, radius1, color='blue', label='Planet 1', s=15)\n",
    "plt.scatter(time2, radius2, color='green', label='Planet 2', s=15)\n",
    "\n",
    "# Add labels and title\n",
    "plt.title(\"Orbital Radius vs Time\", fontsize=14)\n",
    "plt.xlabel(\"Time\", fontsize=12)\n",
    "plt.ylabel(\"Orbital Radius\", fontsize=12)\n",
    "plt.legend()\n",
    "plt.grid(True)\n",
    "plt.tight_layout()\n",
    "\n",
    "# Show the plot\n",
    "plt.show()\n"
   ]
  },
  {
   "cell_type": "markdown",
   "metadata": {},
   "source": [
    "✅ **Question 2.8 (4 points):** Using the plot you made, describe what is happening with the two planets. Is this what you expected to happen?"
   ]
  },
  {
   "cell_type": "markdown",
   "metadata": {},
   "source": [
    "✎ Do This - Erase the contents of this cell and replace it with your answer to the above question! (double-click on this text to edit this cell, and hit shift+enter to save the text)"
   ]
  },
  {
   "cell_type": "markdown",
   "metadata": {},
   "source": [
    "### Modeling a system of 1 big planet and N small planets around a star"
   ]
  },
  {
   "cell_type": "markdown",
   "metadata": {},
   "source": [
    "Now let's extend our model for a system of 1 big planet (by big we mean Jupiter size planet) and a bunch of small planets around it, which will be an approximation for the disk.\n",
    "\n",
    "Here we will provide the generalized code that runs for a set number of planets.\n"
   ]
  },
  {
   "cell_type": "code",
   "execution_count": 21,
   "metadata": {},
   "outputs": [],
   "source": [
    "\n",
    "class System:\n",
    "    def __init__(self, star_mass, planet_list):\n",
    "        # the primaty planet we care about is the first planet in the list\n",
    "        self.star_mass = star_mass\n",
    "        \n",
    "        self.planet_list = planet_list\n",
    "        \n",
    "        self.number_of_planets = len(planet_list)\n",
    "        \n",
    "        self.plot_positions = [[0.0, planet_list[0].radius]]\n",
    "    \n",
    "    def evolve(self, time):\n",
    "        t = 0.0\n",
    "        delta_time = self.planet_list[0].orbital_period/5\n",
    "        while t < time:\n",
    "            # delta_t = self.planet_list[0].orbital_period/5 ## this is the step that chooses the resolution of our simulation\n",
    "            total_force_list = np.zeros(self.number_of_planets)\n",
    "            for i, planet in enumerate(self.planet_list):\n",
    "                if planet.status == \"Active\":\n",
    "                    total_force_radial = 0.0\n",
    "                    for other_planet in self.planet_list:\n",
    "                        if other_planet.status == \"Active\":\n",
    "                            if other_planet != planet and (other_planet.x - planet.x)**2 + (other_planet.y - planet.y)**2 >= 0.02:\n",
    "                                total_force_radial += calculate_forces(planet, other_planet)\n",
    "                    total_force_list[i] = total_force_radial\n",
    "\n",
    "            for i, planet in enumerate(self.planet_list):\n",
    "                if planet.status == \"Active\":\n",
    "                    take_step(planet, total_force_list[i], delta_time)\n",
    "\n",
    "            \n",
    "            for planet in self.planet_list:\n",
    "                if planet.radius < 0.02:\n",
    "                    planet.status == \"Terminated\"\n",
    "            if self.planet_list[0].status == \"Terminated\":\n",
    "                break\n",
    "            t += delta_time\n",
    "            self.plot_positions.append([t, self.planet_list[0].radius])\n",
    "            "
   ]
  },
  {
   "cell_type": "markdown",
   "metadata": {},
   "source": [
    "✅ **Question 2.9 (4 points):** How is the code above different from what you wrote for a 2 planet system?"
   ]
  },
  {
   "cell_type": "markdown",
   "metadata": {},
   "source": [
    "✎ Do This - Erase the contents of this cell and replace it with your answer to the above question! (double-click on this text to edit this cell, and hit shift+enter to save the text)"
   ]
  },
  {
   "cell_type": "markdown",
   "metadata": {},
   "source": [
    "✅ **Question 2.10 (3 points):** Run a simulation for a system of 51 planets orbiting a star with mass 400. The first planet of the list is the *primary* planet with mass 150 at radius 1, and the rest of the planets each have a mass of 0.1 and are evenly placed between 0.01 and 0.7 radii. Run the simulation for time of 10."
   ]
  },
  {
   "cell_type": "code",
   "execution_count": 24,
   "metadata": {},
   "outputs": [
    {
     "data": {
      "image/png": "[encoded data removed]",
      "text/plain": [
       "<Figure size 1200x600 with 1 Axes>"
      ]
     },
     "metadata": {},
     "output_type": "display_data"
    }
   ],
   "source": [
    "import matplotlib.pyplot as plt\n",
    "\n",
    "# Step 1: Create the 51 planets\n",
    "star_mass = 400\n",
    "\n",
    "# Primary planet\n",
    "primary = Planet(mass=150, radius=1.0, star_mass=star_mass)\n",
    "\n",
    "# 50 smaller planets, radii between 0.01 and 0.7\n",
    "radii = np.linspace(0.01, 0.7, 50)\n",
    "small_planets = [Planet(mass=0.1, radius=r, star_mass=star_mass) for r in radii]\n",
    "\n",
    "# All planets\n",
    "all_planets = [primary] + small_planets\n",
    "\n",
    "# Step 2: Create a custom System class for many planets\n",
    "class MultiPlanetSystem:\n",
    "    def __init__(self, star_mass, planets):\n",
    "        self.star_mass = star_mass\n",
    "        self.planets = planets\n",
    "        self.planet_positions = {i: [[0.0, p.radius]] for i, p in enumerate(planets)}\n",
    "\n",
    "    def evolve(self, time):\n",
    "        t = 0.0\n",
    "        delta_time = self.planets[0].orbital_period / 5\n",
    "\n",
    "        while t < time:\n",
    "            for i, planet in enumerate(self.planets):\n",
    "                if planet.status == \"Active\":\n",
    "                    force = 0  # No interplanetary forces\n",
    "                    take_step(planet, force, delta_time)\n",
    "                    self.planet_positions[i].append([t, planet.radius])\n",
    "            t += delta_time\n",
    "\n",
    "# Step 3: Run simulation\n",
    "multi_system = MultiPlanetSystem(star_mass=star_mass, planets=all_planets)\n",
    "multi_system.evolve(time=10)\n",
    "\n",
    "# Step 4: Plot\n",
    "plt.figure(figsize=(12, 6))\n",
    "for i, data in multi_system.planet_positions.items():\n",
    "    times, radii = zip(*data)\n",
    "    label = \"Planet 0 (Primary)\" if i == 0 else None\n",
    "    plt.scatter(times, radii, s=10, alpha=0.6, label=label)\n",
    "\n",
    "plt.title(\"Orbital Radius vs Time for 51 Planets Orbiting a Star (Mass = 400)\")\n",
    "plt.xlabel(\"Time\")\n",
    "plt.ylabel(\"Orbital Radius\")\n",
    "plt.grid(True)\n",
    "plt.legend()\n",
    "plt.tight_layout()\n",
    "plt.show()\n"
   ]
  },
  {
   "cell_type": "markdown",
   "metadata": {},
   "source": [
    "### Visualization"
   ]
  },
  {
   "cell_type": "markdown",
   "metadata": {},
   "source": [
    "✅ **Question 2.11 (1 point):** Make the same visualization for radius vs time for the big planet. You can use GenAI for this part but don't forget to add a reference to your answer."
   ]
  },
  {
   "cell_type": "code",
   "execution_count": 25,
   "metadata": {},
   "outputs": [
    {
     "data": {
      "image/png": "[encoded data removed]",
      "text/plain": [
       "<Figure size 1000x500 with 1 Axes>"
      ]
     },
     "metadata": {},
     "output_type": "display_data"
    }
   ],
   "source": [
    "#your code here\n",
    "import matplotlib.pyplot as plt\n",
    "\n",
    "# Extract the position data for the big planet (planet 0)\n",
    "time_big, radius_big = zip(*multi_system.planet_positions[0])\n",
    "\n",
    "# Create the plot\n",
    "plt.figure(figsize=(10, 5))\n",
    "plt.scatter(time_big, radius_big, color='darkred', s=15, label='Primary Planet')\n",
    "\n",
    "# Add labels, title, and grid\n",
    "plt.title(\"Orbital Radius vs Time for the Primary Planet\", fontsize=14)\n",
    "plt.xlabel(\"Time\", fontsize=12)\n",
    "plt.ylabel(\"Orbital Radius\", fontsize=12)\n",
    "plt.grid(True)\n",
    "plt.legend()\n",
    "plt.tight_layout()\n",
    "plt.show()\n"
   ]
  },
  {
   "cell_type": "markdown",
   "metadata": {},
   "source": [
    "✅ **Question 2.12 (2 points):** Describe what is happening to the planets' orbits based on the plot you made."
   ]
  },
  {
   "cell_type": "markdown",
   "metadata": {},
   "source": [
    "✎ Do This - Erase the contents of this cell and replace it with your answer to the above question! (double-click on this text to edit this cell, and hit shift+enter to save the text)"
   ]
  },
  {
   "cell_type": "markdown",
   "metadata": {},
   "source": [
    "✅ **Question 2.13 (4 points):** Was this what you expected to see based on the concept of planetary migration? Explain why."
   ]
  },
  {
   "cell_type": "markdown",
   "metadata": {},
   "source": [
    "✎ Do This - Erase the contents of this cell and replace it with your answer to the above question! (double-click on this text to edit this cell, and hit shift+enter to save the text)"
   ]
  },
  {
   "cell_type": "markdown",
   "metadata": {},
   "source": [
    "---\n",
    "## &#128721; STOP\n",
    "**Pause to commit your changes to your Git repository! (1 points)**\n",
    "\n",
    "Take a moment to save your notebook, commit the changes to your Git repository using the commit message \"**Committing Part 2**\", no need to push the changes to GitHub yet, but you can if you want.\n",
    "\n",
    "---\n",
    "If you like, you can upload this file to D2L for a record. Nevertheless, **we will grade the copy on GitHub**."
   ]
  },
  {
   "cell_type": "markdown",
   "metadata": {},
   "source": [
    "---\n",
    "---\n",
    "## Post-assignment Survey\n",
    "Please fill out the post-assignment survey [**here**](https://forms.office.com/r/0DRDevWLJT)."
   ]
  },
  {
   "cell_type": "markdown",
   "metadata": {},
   "source": [
    "&#169; Copyright 2024,  Department of Computational Mathematics, Science and Engineering at Michigan State University"
   ]
  }
 ],
 "metadata": {
  "kernelspec": {
   "display_name": "Python 3.11 (default)",
   "language": "python",
   "name": "python3"
  },
  "language_info": {
   "codemirror_mode": {
    "name": "ipython",
    "version": 3
   },
   "file_extension": ".py",
   "mimetype": "text/x-python",
   "name": "python",
   "nbconvert_exporter": "python",
   "pygments_lexer": "ipython3",
   "version": "3.11.11"
  }
 },
 "nbformat": 4,
 "nbformat_minor": 4
}
